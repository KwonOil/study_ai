{
 "cells": [
  {
   "cell_type": "code",
   "execution_count": 2,
   "id": "a1f40125-7e0d-4c15-a8d4-ff4672803cac",
   "metadata": {},
   "outputs": [],
   "source": [
    "#import\n",
    "import pandas as pd\n"
   ]
  },
  {
   "cell_type": "code",
   "execution_count": 8,
   "id": "2306dedd-628c-4a00-841f-a36064ff23af",
   "metadata": {},
   "outputs": [
    {
     "data": {
      "text/html": [
       "<div>\n",
       "<style scoped>\n",
       "    .dataframe tbody tr th:only-of-type {\n",
       "        vertical-align: middle;\n",
       "    }\n",
       "\n",
       "    .dataframe tbody tr th {\n",
       "        vertical-align: top;\n",
       "    }\n",
       "\n",
       "    .dataframe thead th {\n",
       "        text-align: right;\n",
       "    }\n",
       "</style>\n",
       "<table border=\"1\" class=\"dataframe\">\n",
       "  <thead>\n",
       "    <tr style=\"text-align: right;\">\n",
       "      <th></th>\n",
       "      <th>algol</th>\n",
       "      <th>basic</th>\n",
       "      <th>c++</th>\n",
       "    </tr>\n",
       "    <tr>\n",
       "      <th>name</th>\n",
       "      <th></th>\n",
       "      <th></th>\n",
       "      <th></th>\n",
       "    </tr>\n",
       "  </thead>\n",
       "  <tbody>\n",
       "    <tr>\n",
       "      <th>Jerry</th>\n",
       "      <td>A</td>\n",
       "      <td>C</td>\n",
       "      <td>B+</td>\n",
       "    </tr>\n",
       "    <tr>\n",
       "      <th>Rich</th>\n",
       "      <td>A+</td>\n",
       "      <td>B</td>\n",
       "      <td>C</td>\n",
       "    </tr>\n",
       "    <tr>\n",
       "      <th>Paul</th>\n",
       "      <td>B</td>\n",
       "      <td>B+</td>\n",
       "      <td>C+</td>\n",
       "    </tr>\n",
       "  </tbody>\n",
       "</table>\n",
       "</div>"
      ],
      "text/plain": [
       "      algol basic c++\n",
       "name                 \n",
       "Jerry     A     C  B+\n",
       "Rich     A+     B   C\n",
       "Paul      B    B+  C+"
      ]
     },
     "execution_count": 8,
     "metadata": {},
     "output_type": "execute_result"
    }
   ],
   "source": [
    "# p117\n",
    "data = {'name' : ['Jerry','Rich','Paul'],\n",
    "        'algol' : ['A','A+','B'],\n",
    "        'basic' : ['C','B','B+'],\n",
    "        'c++' : ['B+','C','C+']\n",
    "       }\n",
    "df = pd.DataFrame(data)\n",
    "df = df.set_index('name')\n",
    "df"
   ]
  },
  {
   "cell_type": "code",
   "execution_count": 14,
   "id": "31212266-7607-4514-8e9f-ecf9d59538e4",
   "metadata": {},
   "outputs": [],
   "source": [
    "df.to_csv(\"./data/df_sample0423_no_index.csv\", index = False)"
   ]
  },
  {
   "cell_type": "code",
   "execution_count": 18,
   "id": "22bd3f37-312e-4ab9-98fb-5e5239fa35ac",
   "metadata": {},
   "outputs": [],
   "source": [
    "df.to_json(\"./data/df_sample0423_json.json\") # default\n",
    "df.to_json(\"./data/df_sample0423_split.json\", orient = \"split\") # split <-- 데이터를 index, columns, data롤 분리하여 JSON에 저장\n",
    "df.to_json(\"./data/df_sample0423_records.json\", orient = \"records\") # records <-- 각 행을 별도의 JSON 객체(딕셔너리)로 저장하며, 열 이름이 키로 사용된다. 이 딕셔너리 형태의 객체들이 리스트 형태의 배열로 저장된다\n",
    "df.to_json(\"./data/df_sample0423_index.json\", orient = \"index\") # index <-- 각 행의 인덱스를 키로 사용하고 각 행의 데이터를 JSON객체(딕셔너리)로 저장하여 매칭한다\n",
    "df.to_json(\"./data/df_sample0423_columns.json\", orient = \"columns\") # columns <-- 각 열을 별도의 JSON객체로 저장하며, 열 이름이 키로 사용된다\n",
    "df.to_json(\"./data/df_sample0423_values.json\", orient = \"values\") # values <-- 데이터프레임의 값(values 속성)만을 순서대로 저장한다. 이때 행 인덱스와 열 이름은 저장되지 않는다\n"
   ]
  },
  {
   "cell_type": "code",
   "execution_count": 21,
   "id": "04855fc6-19c9-4104-9bf8-7134567d59fd",
   "metadata": {},
   "outputs": [],
   "source": [
    "data = {\n",
    "        'name' : ['Jerry','Rich','Paul'],\n",
    "        'algol' : ['A','A+','B'],\n",
    "        'basic' : ['C','B','B+'],\n",
    "        'c++' : ['B+','C','C+']\n",
    "       }\n",
    "df = pd.DataFrame(data)\n",
    "df = df.set_index('name')\n",
    "df.to_excel(\"./data/df_sample0423_excel.xlsx\")\n"
   ]
  },
  {
   "cell_type": "code",
   "execution_count": 24,
   "id": "3b4f6d3e-f029-4008-86ed-718f3338fca5",
   "metadata": {},
   "outputs": [
    {
     "name": "stdout",
     "output_type": "stream",
     "text": [
      "    name algol basic c++\n",
      "0  Jerry     A     C  B+\n",
      "1   Rich    A+     B   C\n",
      "2   Paul     B    B+  C+\n",
      "\n",
      "   c0  c1  c2  c3  c4\n",
      "0   1   4   7  10  13\n",
      "1   2   5   8  11  14\n",
      "2   3   6   9  12  15\n",
      "\n"
     ]
    }
   ],
   "source": [
    "data1 = {\n",
    "        'name' : ['Jerry','Rich','Paul'],\n",
    "        'algol' : ['A','A+','B'],\n",
    "        'basic' : ['C','B','B+'],\n",
    "        'c++' : ['B+','C','C+']\n",
    "       }\n",
    "data2 = {\n",
    "        'c0' : [1,2,3],\n",
    "        'c1' : [4,5,6],\n",
    "        'c2' : [7,8,9],\n",
    "        'c3' : [10,11,12],\n",
    "        'c4' : [13,14,15]\n",
    "       }\n",
    "df1 = pd.DataFrame(data1)\n",
    "df1.set_index('name')\n",
    "\n",
    "print(df1)\n",
    "print()\n",
    "\n",
    "df2 = pd.DataFrame(data2)\n",
    "df2.set_index('c0')\n",
    "\n",
    "print(df2)\n",
    "print()\n",
    "\n",
    "with pd.ExcelWriter(\"./data/df_sample0423_excelwriter.xlsx\") as writer:\n",
    "    df1.to_excel(writer, sheet_name = \"sheet1\")\n",
    "    df2.to_excel(writer, sheet_name = \"sheet2\")"
   ]
  },
  {
   "cell_type": "code",
   "execution_count": null,
   "id": "34093602-ba33-4e37-81f9-d15fc72fd4a3",
   "metadata": {},
   "outputs": [],
   "source": []
  }
 ],
 "metadata": {
  "kernelspec": {
   "display_name": "Python 3 (ipykernel)",
   "language": "python",
   "name": "python3"
  },
  "language_info": {
   "codemirror_mode": {
    "name": "ipython",
    "version": 3
   },
   "file_extension": ".py",
   "mimetype": "text/x-python",
   "name": "python",
   "nbconvert_exporter": "python",
   "pygments_lexer": "ipython3",
   "version": "3.10.16"
  }
 },
 "nbformat": 4,
 "nbformat_minor": 5
}
