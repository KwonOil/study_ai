{
 "cells": [
  {
   "cell_type": "code",
   "execution_count": 1,
   "id": "dd3f2f9c-875f-4e36-95f0-95dbb828ee80",
   "metadata": {},
   "outputs": [],
   "source": [
    "#import\n",
    "import pandas as pd\n",
    "import numpy as np"
   ]
  },
  {
   "cell_type": "code",
   "execution_count": 7,
   "id": "a7644ed0-f236-4f83-8f97-02048f2f34c0",
   "metadata": {},
   "outputs": [
    {
     "name": "stdout",
     "output_type": "stream",
     "text": [
      "['전체계', '전체ICT학과', '전체ICT관련학과', '전체비ICT학과', '전문대계', '전문대ICT학과', '전문대ICT관련학과', '전문대비ICT학과', '대학교계', '대학교ICT학과', '대학교ICT관련학과', '대학교비ICT학과', '대학원계', '대학원ICT학과', '대학원ICT관련학과', '대학원비ICT학과']\n",
      "\n",
      "['대학교비ICT학과', '대학교계', '전체계', '전체비ICT학과', '대학원계', '전체ICT관련학과', '대학교ICT관련학과', '대학원ICT관련학과', '전체ICT학과', '전문대ICT관련학과', '대학원비ICT학과', '전문대계', '대학교ICT학과', '전문대비ICT학과', '대학원ICT학과', '전문대ICT학과']\n"
     ]
    }
   ],
   "source": [
    "# 절대값이 0.5 이상인 상관 계수 추출하기 \n",
    "df2 = pd.read_excel('./data/ict_수정.xlsx')\n",
    "\n",
    "df2 = df2.set_index('학과별(1)').T\n",
    "\n",
    "df2_corr = df2.corr()\n",
    "index_size = len(df2_corr.index) # 행의 갯수 16개\n",
    "col_size = len(df2_corr.columns) # 열의 개수 16개\n",
    "\n",
    "corr_list = []\n",
    "df2_corr_column_list = list( df2_corr.columns )\n",
    "print(df2_corr_column_list)\n",
    "print()\n",
    "\n",
    "for i in range(0, index_size):\n",
    "    for j in range( 0, col_size):\n",
    "        if np.abs( df2_corr.iloc[i,j]  ) >= 0.5 :\n",
    "            #print(df2_corr.iloc[i,j] )\n",
    "            corr_list.append( df2_corr_column_list[j])\n",
    "\n",
    "corr_list = set(corr_list)\n",
    "corr_list = list(corr_list)       \n",
    "print(corr_list)"
   ]
  }
 ],
 "metadata": {
  "kernelspec": {
   "display_name": "Python 3 (ipykernel)",
   "language": "python",
   "name": "python3"
  },
  "language_info": {
   "codemirror_mode": {
    "name": "ipython",
    "version": 3
   },
   "file_extension": ".py",
   "mimetype": "text/x-python",
   "name": "python",
   "nbconvert_exporter": "python",
   "pygments_lexer": "ipython3",
   "version": "3.10.16"
  }
 },
 "nbformat": 4,
 "nbformat_minor": 5
}
