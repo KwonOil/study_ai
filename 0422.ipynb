{
 "cells": [
  {
   "cell_type": "code",
   "execution_count": 1,
   "id": "f88440ca-e557-4196-aae5-1a555dbbd684",
   "metadata": {},
   "outputs": [],
   "source": [
    "#import\n",
    "import pandas as pd\n",
    "import numpy as np"
   ]
  },
  {
   "cell_type": "code",
   "execution_count": 2,
   "id": "c628be69-24de-4ee7-9eea-441f5a8a0ed2",
   "metadata": {},
   "outputs": [
    {
     "name": "stdout",
     "output_type": "stream",
     "text": [
      "first       Apple_사과\n",
      "Second    Banana_바나나\n",
      "Third      Cherry_체리\n",
      "Fourth           NaN\n",
      "dtype: object\n",
      "\n",
      "first        Apple_사과\n",
      " Second    Banana_바나나\n",
      " Third      Cherry_체리\n",
      "Fourth           <NA>\n",
      "dtype: string\n",
      "\n",
      "first       apple_사과\n",
      "Second    banana_바나나\n",
      "Third      cherry_체리\n",
      "Fourth           NaN\n",
      "dtype: object\n",
      "first       APPLE_사과\n",
      "Second    BANANA_바나나\n",
      "Third      CHERRY_체리\n",
      "Fourth           NaN\n",
      "dtype: object\n",
      "first      8.0\n",
      "Second    10.0\n",
      "Third      9.0\n",
      "Fourth     NaN\n",
      "dtype: float64\n"
     ]
    }
   ],
   "source": [
    "ser = pd.Series([\"Apple_사과\",\"Banana_바나나\",\"Cherry_체리\",np.nan],\n",
    "          index = [\"first \",\"Second\",\"Third\",\"Fourth\"])\n",
    "print(ser)\n",
    "print()\n",
    "\n",
    "ser2 = pd.Series([\"Apple_사과\",\"Banana_바나나\",\"Cherry_체리\",np.nan],\n",
    "          index = [\"first \",\" Second\",\" Third\",\"Fourth\"], dtype = \"string\")\n",
    "\n",
    "print(ser2)\n",
    "print()\n",
    "\n",
    "print(ser.str.lower())\n",
    "print(ser.str.upper())\n",
    "print(ser.str.len())"
   ]
  },
  {
   "cell_type": "code",
   "execution_count": 3,
   "id": "ec6f3b10-1fe7-47d5-b4e9-f9255c4f34b8",
   "metadata": {},
   "outputs": [
    {
     "name": "stdout",
     "output_type": "stream",
     "text": [
      "first       [Apple, 사과]\n",
      "Second    [Banana, 바나나]\n",
      "Third      [Cherry, 체리]\n",
      "Fourth              NaN\n",
      "dtype: object\n",
      "             0    1\n",
      "first    Apple   사과\n",
      "Second  Banana  바나나\n",
      "Third   Cherry   체리\n",
      "Fourth     NaN  NaN\n",
      "first      사과\n",
      "Second    바나나\n",
      "Third      체리\n",
      "Fourth    NaN\n",
      "dtype: object\n"
     ]
    }
   ],
   "source": [
    "print(ser.str.split(\"_\"))\n",
    "print(ser.str.split(\"_\", expand = True)) # 데이터프레임으로 만들기\n",
    "print(ser.str.split(\"_\").str.get(1))\n"
   ]
  },
  {
   "cell_type": "code",
   "execution_count": 4,
   "id": "d781aea3-6181-4aa1-a9df-db0892b48978",
   "metadata": {},
   "outputs": [
    {
     "name": "stdout",
     "output_type": "stream",
     "text": [
      "c0    10\n",
      "c1    20\n",
      "dtype: string\n",
      "\n",
      "c0      [a, 10, b]\n",
      "c1    [a1, 20, b2]\n",
      "dtype: object\n"
     ]
    }
   ],
   "source": [
    "# ex) a-10-b, a1-20-b2\n",
    "# 시리즈로 만들기\n",
    "ex1 = pd.Series(['a-10-b', 'a1-20-b2'],index = ['c0','c1'])\n",
    "ex1 = ex1.str.split('-').str.get(1)\n",
    "ex1 = ex1.astype(\"string\")\n",
    "print(ex1)\n",
    "print()\n",
    "\n",
    "ex2 = pd.Series(['a:10-b', 'a1:20-b2'],index = ['c0','c1'])\n",
    "ex2 = ex2.str.split('[-\\:]')\n",
    "print(ex2)"
   ]
  },
  {
   "cell_type": "code",
   "execution_count": 5,
   "id": "e626a404-0196-4482-a03f-be02209302a9",
   "metadata": {},
   "outputs": [
    {
     "data": {
      "text/plain": [
       "Index(['first', 'Second', 'Third', 'Fourth'], dtype='object')"
      ]
     },
     "execution_count": 5,
     "metadata": {},
     "output_type": "execute_result"
    }
   ],
   "source": [
    "idx = ser.index\n",
    "idx\n",
    "idx.str.strip()\n",
    "#idx.str.lstrip()\n",
    "#idx.str.rstrip()"
   ]
  },
  {
   "cell_type": "code",
   "execution_count": 6,
   "id": "40f1000f-8a0d-46b4-91c1-0e8dbd9e297e",
   "metadata": {},
   "outputs": [
    {
     "name": "stdout",
     "output_type": "stream",
     "text": [
      "first       Apple,사과\n",
      "Second    Banana,바나나\n",
      "Third      Cherry,체리\n",
      "Fourth           NaN\n",
      "dtype: object\n",
      "\n",
      "first      Apple_\n",
      "Second    Banana_\n",
      "Third     Cherry_\n",
      "Fourth        NaN\n",
      "dtype: object\n",
      "first      사과\n",
      "Second    바나나\n",
      "Third      체리\n",
      "Fourth    NaN\n",
      "dtype: object\n"
     ]
    }
   ],
   "source": [
    "print(ser.str.replace(\"_\",\",\",regex = False))\n",
    "print()\n",
    "\n",
    "print(ser.str.replace(\"[^a-zA-z\\s]\",\"\",regex =True)) # 알파벳과 공백이 아닌것을 빈칸으로 치환\n",
    "print(ser.str.replace(\"[^가-힣\\s]\",\"\",regex =True)) # 한글과 공백이 아닌것을 빈칸으로 치환"
   ]
  },
  {
   "cell_type": "code",
   "execution_count": 7,
   "id": "b042ded1-a8d9-4c39-93bb-fd849e52902d",
   "metadata": {},
   "outputs": [
    {
     "name": "stdout",
     "output_type": "stream",
     "text": [
      "first      과사\n",
      "Second     나나\n",
      "Third      리체\n",
      "Fourth    NaN\n",
      "dtype: object\n"
     ]
    }
   ],
   "source": [
    "print(ser.str[-1:-3:-1])"
   ]
  },
  {
   "cell_type": "code",
   "execution_count": 8,
   "id": "ea7e803a-55a8-42e4-be1c-8e6f3d40f103",
   "metadata": {},
   "outputs": [
    {
     "name": "stdout",
     "output_type": "stream",
     "text": [
      "first      True\n",
      "Second    False\n",
      "Third     False\n",
      "Fourth    False\n",
      "dtype: bool\n",
      "first      True\n",
      "Second     True\n",
      "Third     False\n",
      "Fourth      NaN\n",
      "dtype: object\n"
     ]
    }
   ],
   "source": [
    "print(ser.str.contains(\"A\", na = False)) # na값을 False로 처리\n",
    "print(ser.str.contains(r\"[A|B][a-z]+\"))\n",
    "# r:정규표현식 regex, 첫 글자는 [A|B], 두번째 글자는[a-z], 그리고 그 이상+\n"
   ]
  },
  {
   "cell_type": "code",
   "execution_count": 54,
   "id": "ac86b8d5-ebfe-4dd6-9dac-13f2234d8a98",
   "metadata": {},
   "outputs": [
    {
     "name": "stdout",
     "output_type": "stream",
     "text": [
      "     0\n",
      "0    1\n",
      "1    2\n",
      "2    3\n",
      "3  459\n",
      "4   76\n",
      "5    8\n",
      "\n",
      "     0\n",
      "0    a\n",
      "1    b\n",
      "2    c\n",
      "3  daf\n",
      "4   ee\n",
      "5    f\n"
     ]
    }
   ],
   "source": [
    "ser3 = pd.Series([\"a1\",\"b2\",\"c3\",\"d4a5f9\",\"e7e6\",\"f8\",],dtype = \"string\")\n",
    "\n",
    "# 숫자만 추출하기\n",
    "digits = ser3.str.extractall(r\"(\\d)\").groupby(level = 0).agg(\"\".join)\n",
    "print(digits)\n",
    "print()\n",
    "# 소문자만 추출하기\n",
    "letters = ser3.str.extractall(r\"([a-z])\").groupby(level = 0).agg(\"\".join)\n",
    "print(letters)"
   ]
  },
  {
   "cell_type": "code",
   "execution_count": 55,
   "id": "4ef40ac1-e59a-4f07-bc0a-93077cbb2731",
   "metadata": {},
   "outputs": [
    {
     "name": "stdout",
     "output_type": "stream",
     "text": [
      "   0\n",
      "0  A\n",
      "1  B\n",
      "2  C\n",
      "3  D\n",
      "4  E\n",
      "5  F\n",
      "\n",
      "     0\n",
      "0    가\n",
      "1    나\n",
      "2    다\n",
      "3  라마사\n",
      "4  아자차\n",
      "5    카\n",
      "\n"
     ]
    }
   ],
   "source": [
    "ser4 = pd.Series([\"A1\",\"B2\",\"C3\",\"D4a5f9\",\"E77e6\",\"F8\",],dtype = \"string\")\n",
    "ser5 = pd.Series([\"가1\",\"나2\",\"다3\",\"라5마6사6\",\"아7자1차0\",\"카9\",],dtype = \"string\")\n",
    "# 대문자 추출\n",
    "LETTERS = ser4.str.extractall(r\"([A-Z])\").groupby(level = 0).agg(\"\".join)\n",
    "print(LETTERS)\n",
    "print()\n",
    "han = ser5.str.extractall(r\"([가-힣])\").groupby(level = 0).agg(\"\".join)\n",
    "print(han)\n",
    "print()"
   ]
  },
  {
   "cell_type": "code",
   "execution_count": 56,
   "id": "064b73dc-ab2f-4acf-9704-e350dad4599d",
   "metadata": {},
   "outputs": [
    {
     "data": {
      "text/html": [
       "<div>\n",
       "<style scoped>\n",
       "    .dataframe tbody tr th:only-of-type {\n",
       "        vertical-align: middle;\n",
       "    }\n",
       "\n",
       "    .dataframe tbody tr th {\n",
       "        vertical-align: top;\n",
       "    }\n",
       "\n",
       "    .dataframe thead th {\n",
       "        text-align: right;\n",
       "    }\n",
       "</style>\n",
       "<table border=\"1\" class=\"dataframe\">\n",
       "  <thead>\n",
       "    <tr style=\"text-align: right;\">\n",
       "      <th></th>\n",
       "      <th>Letter</th>\n",
       "      <th>Digit</th>\n",
       "    </tr>\n",
       "  </thead>\n",
       "  <tbody>\n",
       "    <tr>\n",
       "      <th>0</th>\n",
       "      <td>a</td>\n",
       "      <td>1</td>\n",
       "    </tr>\n",
       "    <tr>\n",
       "      <th>1</th>\n",
       "      <td>b</td>\n",
       "      <td>2</td>\n",
       "    </tr>\n",
       "    <tr>\n",
       "      <th>2</th>\n",
       "      <td>c</td>\n",
       "      <td>3</td>\n",
       "    </tr>\n",
       "    <tr>\n",
       "      <th>3</th>\n",
       "      <td>d</td>\n",
       "      <td>4</td>\n",
       "    </tr>\n",
       "    <tr>\n",
       "      <th>4</th>\n",
       "      <td>e</td>\n",
       "      <td>7</td>\n",
       "    </tr>\n",
       "    <tr>\n",
       "      <th>5</th>\n",
       "      <td>f</td>\n",
       "      <td>8</td>\n",
       "    </tr>\n",
       "  </tbody>\n",
       "</table>\n",
       "</div>"
      ],
      "text/plain": [
       "  Letter Digit\n",
       "0      a     1\n",
       "1      b     2\n",
       "2      c     3\n",
       "3      d     4\n",
       "4      e     7\n",
       "5      f     8"
      ]
     },
     "execution_count": 56,
     "metadata": {},
     "output_type": "execute_result"
    }
   ],
   "source": [
    "split_c = ser3.str.extract(r\"(?P<Letter>[a-z]+)(?P<Digit>\\d+)\")\n",
    "split_c"
   ]
  },
  {
   "cell_type": "code",
   "execution_count": null,
   "id": "047ed702-0109-4ac1-baa6-fa65df4395a7",
   "metadata": {},
   "outputs": [],
   "source": []
  }
 ],
 "metadata": {
  "kernelspec": {
   "display_name": "Python 3 (ipykernel)",
   "language": "python",
   "name": "python3"
  },
  "language_info": {
   "codemirror_mode": {
    "name": "ipython",
    "version": 3
   },
   "file_extension": ".py",
   "mimetype": "text/x-python",
   "name": "python",
   "nbconvert_exporter": "python",
   "pygments_lexer": "ipython3",
   "version": "3.10.16"
  }
 },
 "nbformat": 4,
 "nbformat_minor": 5
}
