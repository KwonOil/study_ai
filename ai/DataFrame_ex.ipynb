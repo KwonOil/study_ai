{
 "cells": [
  {
   "cell_type": "markdown",
   "id": "da578201-4cae-4372-9756-a37025cae8c3",
   "metadata": {},
   "source": [
    "### 데이터 프레임\n",
    "- 2차원 배열\n",
    "- 2차원 벡터, 행렬\n",
    "- 열 == 속성 == 항목 (세로)\n",
    "- 행 == 레코드 == 줄 (가로)\n",
    "- 교재 15쪽 표 [1-1]) 행 - 관측값, 열 - 종목코드, 회사 이름, 액면가, 총 주식수"
   ]
  },
  {
   "cell_type": "code",
   "execution_count": 1,
   "id": "cddd553a-dd7b-4646-8eff-738eeb4c4325",
   "metadata": {},
   "outputs": [],
   "source": [
    "# import\n",
    "import pandas as pd"
   ]
  },
  {
   "cell_type": "code",
   "execution_count": 2,
   "id": "3cccd10c-6f47-4504-bb44-942ad9ef17d5",
   "metadata": {},
   "outputs": [
    {
     "name": "stdout",
     "output_type": "stream",
     "text": [
      "   초1  초2  초3  초4  초5\n",
      "A   1   4   7  10  13\n",
      "B   2   5   8  11  14\n",
      "C   3   6   9  12  15\n"
     ]
    }
   ],
   "source": [
    "# 데이터 프레임 만들기\n",
    "dict_data = {'c0' : [1,2,3], 'c1' : [4,5,6], 'c2' : [7,8,9], 'c3' : [10,11,12], 'c4' : [13,14,15] }\n",
    "df = pd.DataFrame(dict_data, index = ['A','B','C']) # pd.DataFrame( 딕셔너리 ) index -> 기본 index를 입력값으로 변경, columns -> 기본 columns 중에 입력값의 열만 출력\n",
    "df.columns = ['초1','초2','초3','초4','초5'] # 데이터프레임.columns = [] : 컬럼 명 변경\n",
    "print(df)"
   ]
  },
  {
   "attachments": {
    "afbb3914-8726-4d69-917e-69ddf2a67bfa.png": {
     "image/png": "[encoded data removed]"
    }
   },
   "cell_type": "markdown",
   "id": "16212e58-2a56-4407-9966-b6f2c609e84e",
   "metadata": {},
   "source": [
    "![image.png](attachment:afbb3914-8726-4d69-917e-69ddf2a67bfa.png)"
   ]
  },
  {
   "cell_type": "code",
   "execution_count": 3,
   "id": "04a3be19-8ee9-4ec2-95e1-cd555065c816",
   "metadata": {},
   "outputs": [
    {
     "data": {
      "text/html": [
       "<div>\n",
       "<style scoped>\n",
       "    .dataframe tbody tr th:only-of-type {\n",
       "        vertical-align: middle;\n",
       "    }\n",
       "\n",
       "    .dataframe tbody tr th {\n",
       "        vertical-align: top;\n",
       "    }\n",
       "\n",
       "    .dataframe thead th {\n",
       "        text-align: right;\n",
       "    }\n",
       "</style>\n",
       "<table border=\"1\" class=\"dataframe\">\n",
       "  <thead>\n",
       "    <tr style=\"text-align: right;\">\n",
       "      <th></th>\n",
       "      <th>name</th>\n",
       "      <th>age</th>\n",
       "      <th>children</th>\n",
       "    </tr>\n",
       "  </thead>\n",
       "  <tbody>\n",
       "    <tr>\n",
       "      <th>A</th>\n",
       "      <td>Kim</td>\n",
       "      <td>24</td>\n",
       "      <td>2</td>\n",
       "    </tr>\n",
       "    <tr>\n",
       "      <th>B</th>\n",
       "      <td>Lee</td>\n",
       "      <td>27</td>\n",
       "      <td>1</td>\n",
       "    </tr>\n",
       "    <tr>\n",
       "      <th>C</th>\n",
       "      <td>Park</td>\n",
       "      <td>34</td>\n",
       "      <td>3</td>\n",
       "    </tr>\n",
       "  </tbody>\n",
       "</table>\n",
       "</div>"
      ],
      "text/plain": [
       "   name  age  children\n",
       "A   Kim   24         2\n",
       "B   Lee   27         1\n",
       "C  Park   34         3"
      ]
     },
     "execution_count": 3,
     "metadata": {},
     "output_type": "execute_result"
    }
   ],
   "source": [
    "dict_test = { 'name' : ['Kim','Lee','Park'], 'age' : [24, 27, 34], 'children' : [2,1,3]}\n",
    "df_test = pd.DataFrame(dict_test, index = ['A','B','C'])\n",
    "df_test"
   ]
  },
  {
   "attachments": {
    "a54a318d-1ff5-4447-83f9-b4eaa874d485.png": {
     "image/png": "[encoded data removed]"
    }
   },
   "cell_type": "markdown",
   "id": "ef3c78b9-7d9f-4518-ba14-a84d490642c2",
   "metadata": {},
   "source": [
    "![image.png](attachment:a54a318d-1ff5-4447-83f9-b4eaa874d485.png)"
   ]
  },
  {
   "cell_type": "code",
   "execution_count": 4,
   "id": "44caf286-db4d-4289-a3bd-2e93994743d7",
   "metadata": {},
   "outputs": [
    {
     "name": "stdout",
     "output_type": "stream",
     "text": [
      "{'food': ['KFC', 'McDonald', 'SchoolFood'], 'price': [1000, 2000, 2500], 'rating': [4.5, 3.9, 4.2]}\n"
     ]
    },
    {
     "data": {
      "text/html": [
       "<div>\n",
       "<style scoped>\n",
       "    .dataframe tbody tr th:only-of-type {\n",
       "        vertical-align: middle;\n",
       "    }\n",
       "\n",
       "    .dataframe tbody tr th {\n",
       "        vertical-align: top;\n",
       "    }\n",
       "\n",
       "    .dataframe thead th {\n",
       "        text-align: right;\n",
       "    }\n",
       "</style>\n",
       "<table border=\"1\" class=\"dataframe\">\n",
       "  <thead>\n",
       "    <tr style=\"text-align: right;\">\n",
       "      <th></th>\n",
       "      <th>food</th>\n",
       "      <th>price</th>\n",
       "      <th>rating</th>\n",
       "    </tr>\n",
       "  </thead>\n",
       "  <tbody>\n",
       "    <tr>\n",
       "      <th>0</th>\n",
       "      <td>KFC</td>\n",
       "      <td>1000</td>\n",
       "      <td>4.5</td>\n",
       "    </tr>\n",
       "    <tr>\n",
       "      <th>1</th>\n",
       "      <td>McDonald</td>\n",
       "      <td>2000</td>\n",
       "      <td>3.9</td>\n",
       "    </tr>\n",
       "    <tr>\n",
       "      <th>2</th>\n",
       "      <td>SchoolFood</td>\n",
       "      <td>2500</td>\n",
       "      <td>4.2</td>\n",
       "    </tr>\n",
       "  </tbody>\n",
       "</table>\n",
       "</div>"
      ],
      "text/plain": [
       "         food  price  rating\n",
       "0         KFC   1000     4.5\n",
       "1    McDonald   2000     3.9\n",
       "2  SchoolFood   2500     4.2"
      ]
     },
     "execution_count": 4,
     "metadata": {},
     "output_type": "execute_result"
    }
   ],
   "source": [
    "key = ['food','price','rating']\n",
    "value = [['KFC','McDonald','SchoolFood'], [1000, 2000, 2500], [4.5, 3.9, 4.2]]\n",
    "dict_test = dict(zip(key,value))\n",
    "print(dict_test)\n",
    "\n",
    "dict_ex1 = {'food': ['KFC', 'McDonald','SchoolFood'], 'price' : [1000, 2000, 2500], 'rating' : [4.5, 3.9, 4.2]}\n",
    "df_ex1 = pd.DataFrame(dict_ex1)\n",
    "df_ex1"
   ]
  },
  {
   "cell_type": "code",
   "execution_count": 5,
   "id": "71e6daa2-05d8-46e2-827e-60741c7da15f",
   "metadata": {},
   "outputs": [
    {
     "name": "stdout",
     "output_type": "stream",
     "text": [
      "    나이 성별 중학교이름\n",
      "1반  15  남   덕영중\n",
      "2반  17  여   수리중\n",
      "오일  16  남   동남중\n",
      "Index(['1반', '2반', '오일'], dtype='object')\n",
      "Index(['나이', '성별', '중학교이름'], dtype='object')\n",
      "    나이 성별   학교\n",
      "준서  15  남  덕영중\n",
      "예은  17  여  수리중\n",
      "오일  16  남  동남중\n",
      "    나이 성별   학교\n",
      "준서  15  남  덕영중\n",
      "   성별   학교\n",
      "준서  남  덕영중\n"
     ]
    }
   ],
   "source": [
    "# 방법2) pd.DataFrame(2차원배열, index = 행인덱스배열, columns = 열이름배열)\n",
    "a_2 = [[15,'남','덕영중'], [17, '여','수리중'], [16, '남','동남중']]\n",
    "# df_2 = pd.DataFrame(a_2)\n",
    "# df_2.index = ['1반','2반']\n",
    "# df_2.columns = ['나이','성별','중학교이름']\n",
    "\n",
    "df_2 = pd.DataFrame(a_2, index = ['1반','2반','오일'], columns = ['나이','성별','중학교이름'])\n",
    "\n",
    "print(df_2)\n",
    "\n",
    "# 반의 이름은?\n",
    "print(df_2.index)\n",
    "# 한 학생의 자료 항목은?\n",
    "print(df_2.columns)\n",
    "\n",
    "# rename 변경\n",
    "# df_2 = df_2.rename(index = {'1반':'준서','2반':'예은'}, columns = {'중학교이름':'학교'})\n",
    "df_2 = df_2.rename(index = {'1반':'준서','2반':'예은'})\n",
    "df_2 = df_2.rename(columns = {'중학교이름':'학교'})\n",
    "print(df_2)\n",
    "\n",
    "# drop 삭제\n",
    "# '예은' 행 삭제\n",
    "df_2 = df_2.drop(['예은','오일'],axis = 'index') # (axis = 0) or (axis = 'index') 이면 행 삭제(생략 가능)\n",
    "print(df_2)\n",
    "# '나이' 열 삭제\n",
    "df_2 = df_2.drop('나이',axis = 1) # (axis = 1) or (axis = 'columns') 이면 열 삭제(생략 불가능)\n",
    "print(df_2)\n"
   ]
  },
  {
   "cell_type": "code",
   "execution_count": 6,
   "id": "c9b2449f-73f8-4dc6-8562-e1ee9f9aa77a",
   "metadata": {},
   "outputs": [
    {
     "name": "stdout",
     "output_type": "stream",
     "text": [
      "    수학  영어   음악   체육\n",
      "서준  90  98   85  100\n",
      "우현  80  89   95   90\n",
      "인아  70  95  100   90\n",
      "    수학  영어   음악   체육\n",
      "서준  90  98   85  100\n",
      "인아  70  95  100   90\n",
      "    수학  영어  음악   체육\n",
      "서준  90  98  85  100\n",
      "    수학  영어  음악   체육\n",
      "서준  90  98  85  100\n",
      "    수학  영어  음악   체육\n",
      "서준  90  98  85  100\n"
     ]
    }
   ],
   "source": [
    "# p21 예제 1-7\n",
    "exam_data = { '수학' : [90,80,70],\n",
    "             '영어' : [98,89,95],\n",
    "             '음악' : [85,95,100],\n",
    "             '체육' : [100,90,90] }\n",
    "df = pd.DataFrame(exam_data, index = ['서준','우현','인아'])\n",
    "print(df)\n",
    "\n",
    "df2 = df\n",
    "df2 = df2.drop('우현') # 생략 시 axis = 0\n",
    "print(df2)\n",
    "\n",
    "df3 = df\n",
    "df3 = df3.drop(['우현','인아'], axis = 0) # axis = 0 을 사용해 열 삭제\n",
    "print(df3)\n",
    "\n",
    "df4 = df\n",
    "df4 = df4.drop(['우현','인아'], axis = 'index') # axis = 'index' 를 사용해 열 삭제\n",
    "print(df4)\n",
    "\n",
    "df5 = df\n",
    "df5 = df5.drop(index = ['우현','인아']) # index = 삭제할 값 또는 리스트 를 사용해 열 삭제\n",
    "print(df5)"
   ]
  },
  {
   "cell_type": "code",
   "execution_count": 7,
   "id": "71e10b9c-07ba-4da7-9a71-e199a3d0cc01",
   "metadata": {},
   "outputs": [
    {
     "name": "stdout",
     "output_type": "stream",
     "text": [
      "    수학  영어   음악   체육\n",
      "서준  90  98   85  100\n",
      "우현  80  89   95   90\n",
      "인아  70  95  100   90\n",
      "    영어   음악   체육\n",
      "서준  98   85  100\n",
      "우현  89   95   90\n",
      "인아  95  100   90\n",
      "    영어   체육\n",
      "서준  98  100\n",
      "우현  89   90\n",
      "인아  95   90\n",
      "     음악   체육\n",
      "서준   85  100\n",
      "우현   95   90\n",
      "인아  100   90\n",
      "    수학\n",
      "서준  90\n",
      "우현  80\n",
      "인아  70\n"
     ]
    }
   ],
   "source": [
    "# p24 예제 1-8\n",
    "print(df)\n",
    "\n",
    "df2 = df\n",
    "df2 = df2.drop('수학', axis = 1) # axis = 1 생략불가\n",
    "print(df2)\n",
    "\n",
    "df3 = df\n",
    "df3 = df3.drop(['수학','음악'], axis = 1) # axis = 0 을 사용해 열 삭제\n",
    "print(df3)\n",
    "\n",
    "df4 = df\n",
    "df4 = df4.drop(['수학','영어'], axis = 'columns') # axis = 'columns' 를 사용해 열 삭제\n",
    "print(df4)\n",
    "\n",
    "df5 = df\n",
    "df5 = df5.drop(columns = ['영어','음악','체육']) # columns = 삭제할 값 또는 리스트 를 사용해 행 삭제\n",
    "print(df5)"
   ]
  },
  {
   "attachments": {
    "ede87144-d258-47e7-a5ec-c9864a5519ff.png": {
     "image/png": "[encoded data removed]"
    }
   },
   "cell_type": "markdown",
   "id": "1b91ce9b-4055-4bf9-a947-f202caf8cb79",
   "metadata": {},
   "source": [
    "2. food 컬럼과 rating 컬럼만 선택하여 출력하세요\n",
    "\n",
    "[출력]\n",
    "\n",
    "![image.png](attachment:ede87144-d258-47e7-a5ec-c9864a5519ff.png)"
   ]
  },
  {
   "cell_type": "code",
   "execution_count": 8,
   "id": "c5060e2b-76d4-4abb-9e75-da7ede652c6b",
   "metadata": {},
   "outputs": [
    {
     "data": {
      "text/html": [
       "<div>\n",
       "<style scoped>\n",
       "    .dataframe tbody tr th:only-of-type {\n",
       "        vertical-align: middle;\n",
       "    }\n",
       "\n",
       "    .dataframe tbody tr th {\n",
       "        vertical-align: top;\n",
       "    }\n",
       "\n",
       "    .dataframe thead th {\n",
       "        text-align: right;\n",
       "    }\n",
       "</style>\n",
       "<table border=\"1\" class=\"dataframe\">\n",
       "  <thead>\n",
       "    <tr style=\"text-align: right;\">\n",
       "      <th></th>\n",
       "      <th>food</th>\n",
       "      <th>rating</th>\n",
       "    </tr>\n",
       "  </thead>\n",
       "  <tbody>\n",
       "    <tr>\n",
       "      <th>0</th>\n",
       "      <td>KFC</td>\n",
       "      <td>4.5</td>\n",
       "    </tr>\n",
       "    <tr>\n",
       "      <th>1</th>\n",
       "      <td>McDonald</td>\n",
       "      <td>3.9</td>\n",
       "    </tr>\n",
       "    <tr>\n",
       "      <th>2</th>\n",
       "      <td>SchoolFood</td>\n",
       "      <td>4.2</td>\n",
       "    </tr>\n",
       "  </tbody>\n",
       "</table>\n",
       "</div>"
      ],
      "text/plain": [
       "         food  rating\n",
       "0         KFC     4.5\n",
       "1    McDonald     3.9\n",
       "2  SchoolFood     4.2"
      ]
     },
     "execution_count": 8,
     "metadata": {},
     "output_type": "execute_result"
    }
   ],
   "source": [
    "df_ex2 = df_ex1\n",
    "f_r = df_ex2[['food','rating']]\n",
    "f_r"
   ]
  },
  {
   "attachments": {
    "635fe2eb-125e-4d5a-a958-a30074347cd0.png": {
     "image/png": "[encoded data removed]"
    }
   },
   "cell_type": "markdown",
   "id": "cd8a9130-562d-40f1-9efb-b9b745ea4038",
   "metadata": {},
   "source": [
    "3. food 컬럼명을 place로 컬럼명을 변경해 주세요\n",
    "\n",
    "[출력]\n",
    "\n",
    "![image.png](attachment:635fe2eb-125e-4d5a-a958-a30074347cd0.png)"
   ]
  },
  {
   "cell_type": "code",
   "execution_count": 9,
   "id": "651bca48-1863-4290-9815-f9dd6a3c1b1b",
   "metadata": {},
   "outputs": [
    {
     "data": {
      "text/html": [
       "<div>\n",
       "<style scoped>\n",
       "    .dataframe tbody tr th:only-of-type {\n",
       "        vertical-align: middle;\n",
       "    }\n",
       "\n",
       "    .dataframe tbody tr th {\n",
       "        vertical-align: top;\n",
       "    }\n",
       "\n",
       "    .dataframe thead th {\n",
       "        text-align: right;\n",
       "    }\n",
       "</style>\n",
       "<table border=\"1\" class=\"dataframe\">\n",
       "  <thead>\n",
       "    <tr style=\"text-align: right;\">\n",
       "      <th></th>\n",
       "      <th>place</th>\n",
       "      <th>price</th>\n",
       "      <th>rating</th>\n",
       "    </tr>\n",
       "  </thead>\n",
       "  <tbody>\n",
       "    <tr>\n",
       "      <th>0</th>\n",
       "      <td>KFC</td>\n",
       "      <td>1000</td>\n",
       "      <td>4.5</td>\n",
       "    </tr>\n",
       "    <tr>\n",
       "      <th>1</th>\n",
       "      <td>McDonald</td>\n",
       "      <td>2000</td>\n",
       "      <td>3.9</td>\n",
       "    </tr>\n",
       "    <tr>\n",
       "      <th>2</th>\n",
       "      <td>SchoolFood</td>\n",
       "      <td>2500</td>\n",
       "      <td>4.2</td>\n",
       "    </tr>\n",
       "  </tbody>\n",
       "</table>\n",
       "</div>"
      ],
      "text/plain": [
       "        place  price  rating\n",
       "0         KFC   1000     4.5\n",
       "1    McDonald   2000     3.9\n",
       "2  SchoolFood   2500     4.2"
      ]
     },
     "execution_count": 9,
     "metadata": {},
     "output_type": "execute_result"
    }
   ],
   "source": [
    "df_ex3 = df_ex1\n",
    "df_ex3 = df_ex3.rename(columns = {'food' : 'place'})\n",
    "df_ex3"
   ]
  },
  {
   "cell_type": "code",
   "execution_count": 10,
   "id": "23d294e6-46b0-4ee9-bdc0-e63ebe4df2db",
   "metadata": {},
   "outputs": [
    {
     "name": "stdout",
     "output_type": "stream",
     "text": [
      "수학     90\n",
      "영어     98\n",
      "음악     85\n",
      "체육    100\n",
      "Name: 서준, dtype: int64\n",
      "\n",
      "수학     90\n",
      "영어     98\n",
      "음악     85\n",
      "체육    100\n",
      "Name: 서준, dtype: int64\n",
      "\n",
      "    수학  영어  음악   체육\n",
      "서준  90  98  85  100\n",
      "우현  80  89  95   90\n",
      "\n",
      "    수학  영어  음악   체육\n",
      "서준  90  98  85  100\n",
      "우현  80  89  95   90\n",
      "\n",
      "    수학  영어  음악   체육\n",
      "서준  90  98  85  100\n",
      "우현  80  89  95   90\n",
      "\n",
      "    수학  영어  음악   체육\n",
      "서준  90  98  85  100\n",
      "우현  80  89  95   90\n",
      "\n"
     ]
    }
   ],
   "source": [
    "# p26 예제 1-9\n",
    "# 원하는 행 선택하기\n",
    "label1 = df.loc['서준'] # '서준'행만 반환\n",
    "print(label1)\n",
    "print()\n",
    "\n",
    "position1 = df.iloc[0] # 0 행만 반환\n",
    "print(position1)\n",
    "print()\n",
    "\n",
    "label2 = df.loc[['서준','우현']] # '서준','우현'행만 반환\n",
    "print(label2)\n",
    "print()\n",
    "\n",
    "position2 = df.iloc[[0,1]] # 0, 1행 반환\n",
    "print(position2)\n",
    "print()\n",
    "\n",
    "label3 = df.loc['서준':'우현'] # '서준' ~ '우현' 행 반환\n",
    "print(label3)\n",
    "print()\n",
    "\n",
    "position3 = df.iloc[0:2] # 0 ~ 1행만 반환\n",
    "print(position3)\n",
    "print()"
   ]
  },
  {
   "cell_type": "code",
   "execution_count": 11,
   "id": "72021498-4a37-4bd4-b0ca-1709546b0456",
   "metadata": {},
   "outputs": [
    {
     "name": "stdout",
     "output_type": "stream",
     "text": [
      "0    90\n",
      "1    80\n",
      "2    70\n",
      "Name: 수학, dtype: int64\n",
      "\n",
      "0    98\n",
      "1    89\n",
      "2    90\n",
      "Name: 영어, dtype: int64\n",
      "\n",
      "   음악  영어\n",
      "0  85  98\n",
      "1  89  89\n",
      "2  95  90\n",
      "\n",
      "   수학\n",
      "0  90\n",
      "1  80\n",
      "2  70\n",
      "\n"
     ]
    }
   ],
   "source": [
    "# p30 예제 1-10\n",
    "exam_data = { '이름' : ['서준','우현','인아'],\n",
    "             '수학' : [90,80,70],\n",
    "             '영어' : [98,89,90],\n",
    "             '음악' : [85,89,95],\n",
    "             '체육' : [100,90,90]}\n",
    "df = pd.DataFrame(exam_data)\n",
    "# 원하는 열 선택하기\n",
    "math1 = df['수학'] # '수학'열만 반환 / Series\n",
    "print(math1)\n",
    "print()\n",
    "\n",
    "english = df.영어 # (*많이 사용)'영어'열만 반환 / Series\n",
    "print(english)\n",
    "print()\n",
    "\n",
    "music_gym = df[['음악','영어']] # '음악','영어'열 반환 / DataFrame\n",
    "print(music_gym)\n",
    "print()\n",
    "\n",
    "math2 = df[['수학']] # '수학'열만 반환 / DataFrame\n",
    "print(math2)\n",
    "print()\n"
   ]
  },
  {
   "cell_type": "code",
   "execution_count": 12,
   "id": "42a3a7ba-dc3f-4a68-9616-ef3c105abf38",
   "metadata": {},
   "outputs": [
    {
     "data": {
      "text/html": [
       "<div>\n",
       "<style scoped>\n",
       "    .dataframe tbody tr th:only-of-type {\n",
       "        vertical-align: middle;\n",
       "    }\n",
       "\n",
       "    .dataframe tbody tr th {\n",
       "        vertical-align: top;\n",
       "    }\n",
       "\n",
       "    .dataframe thead th {\n",
       "        text-align: right;\n",
       "    }\n",
       "</style>\n",
       "<table border=\"1\" class=\"dataframe\">\n",
       "  <thead>\n",
       "    <tr style=\"text-align: right;\">\n",
       "      <th></th>\n",
       "      <th>이름</th>\n",
       "      <th>수학</th>\n",
       "      <th>영어</th>\n",
       "      <th>음악</th>\n",
       "      <th>체육</th>\n",
       "    </tr>\n",
       "  </thead>\n",
       "  <tbody>\n",
       "    <tr>\n",
       "      <th>0</th>\n",
       "      <td>서준</td>\n",
       "      <td>90</td>\n",
       "      <td>98</td>\n",
       "      <td>85</td>\n",
       "      <td>100</td>\n",
       "    </tr>\n",
       "    <tr>\n",
       "      <th>1</th>\n",
       "      <td>우현</td>\n",
       "      <td>80</td>\n",
       "      <td>89</td>\n",
       "      <td>89</td>\n",
       "      <td>90</td>\n",
       "    </tr>\n",
       "    <tr>\n",
       "      <th>2</th>\n",
       "      <td>인아</td>\n",
       "      <td>70</td>\n",
       "      <td>90</td>\n",
       "      <td>95</td>\n",
       "      <td>90</td>\n",
       "    </tr>\n",
       "  </tbody>\n",
       "</table>\n",
       "</div>"
      ],
      "text/plain": [
       "   이름  수학  영어  음악   체육\n",
       "0  서준  90  98  85  100\n",
       "1  우현  80  89  89   90\n",
       "2  인아  70  90  95   90"
      ]
     },
     "execution_count": 12,
     "metadata": {},
     "output_type": "execute_result"
    }
   ],
   "source": [
    "df.iloc[::]"
   ]
  },
  {
   "cell_type": "code",
   "execution_count": 14,
   "id": "b32f2c97-7516-42f4-a5e2-0d344ddfb175",
   "metadata": {},
   "outputs": [
    {
     "name": "stdout",
     "output_type": "stream",
     "text": [
      "   이름  수학  영어  음악   체육\n",
      "0  서준  90  98  85  100\n",
      "1  우현  80  89  89   90\n",
      "2  인아  70  90  95   90\n",
      "\n",
      "    수학  영어  음악   체육\n",
      "이름                 \n",
      "서준  90  98  85  100\n",
      "우현  80  89  89   90\n",
      "인아  70  90  95   90\n",
      "\n",
      "85\n",
      "\n",
      "85\n",
      "\n",
      "음악    85\n",
      "영어    98\n",
      "Name: 서준, dtype: int64\n",
      "\n",
      "음악     85\n",
      "체육    100\n",
      "Name: 서준, dtype: int64\n",
      "\n",
      "수학    90\n",
      "영어    98\n",
      "음악    85\n",
      "Name: 서준, dtype: int64\n",
      "\n",
      "음악     85\n",
      "체육    100\n",
      "Name: 서준, dtype: int64\n",
      "\n"
     ]
    }
   ],
   "source": [
    "# p35 예제 1-11\n",
    "# exam_data = { '이름' : ['서준','우현','인아'],\n",
    "#              '수학' : [90,80,70],\n",
    "#              '영어' : [98,89,90],\n",
    "#              '음악' : [85,89,95],\n",
    "#              '체육' : [100,90,90]}\n",
    "# df = pd.DataFrame(exam_data)\n",
    "\n",
    "print(df)\n",
    "print()\n",
    "\n",
    "df = df.set_index('이름')\n",
    "print(df)\n",
    "print()\n",
    "\n",
    "a = df.loc['서준','음악']\n",
    "print(a)\n",
    "print()\n",
    "\n",
    "b = df.iloc[0,2]\n",
    "print(b)\n",
    "print()\n",
    "\n",
    "c = df.loc['서준',['음악','영어']]\n",
    "print(c)\n",
    "print()\n",
    "\n",
    "d = df.iloc[0,[2,3]]\n",
    "print(d)\n",
    "print()\n",
    "\n",
    "e = df.loc['서준','수학':'음악']\n",
    "print(e)\n",
    "print()\n",
    "\n",
    "f = df.iloc[0, 2:]\n",
    "print(f)\n",
    "print()\n",
    "\n",
    "# 미완\n"
   ]
  },
  {
   "cell_type": "code",
   "execution_count": null,
   "id": "dbf5d1cc-cfa8-4f24-b03c-5c2cececb59a",
   "metadata": {},
   "outputs": [],
   "source": [
    "# p39 예제 1-12\n",
    "print(df)\n",
    "\n",
    "df['국어'] = 80\n",
    "print(df)\n",
    "print()\n",
    "\n",
    "df['미술'] = [80,90,100]\n",
    "print(df)\n"
   ]
  },
  {
   "cell_type": "code",
   "execution_count": null,
   "id": "1b5a6803-b21d-49f1-a05c-a744f0919db5",
   "metadata": {},
   "outputs": [],
   "source": [
    "# p41 예제 1-13\n",
    "exam_data = { '이름' : ['서준','우현','인아'],\n",
    "             '수학' : [90,80,70],\n",
    "             '영어' : [98,89,90],\n",
    "             '음악' : [85,89,95],\n",
    "             '체육' : [100,90,90]}\n",
    "df = pd.DataFrame(exam_data)\n",
    "print(df)\n",
    "print()\n",
    "\n",
    "df.loc[3] = 0\n",
    "print(df)\n",
    "print()\n",
    "\n",
    "df.loc[4] = ['동규', 90, 80, 70, 60]\n",
    "print(df)\n",
    "print()\n",
    "\n",
    "df.loc['행5'] = df.loc[4]\n",
    "print(df)\n",
    "print()"
   ]
  },
  {
   "cell_type": "code",
   "execution_count": null,
   "id": "62594942-1ae3-4cdd-975e-757b5cb73a4f",
   "metadata": {},
   "outputs": [],
   "source": [
    "# p43 예제 1-14\n",
    "exam_data = { '이름' : ['서준','우현','인아'],\n",
    "             '수학' : [90,80,70],\n",
    "             '영어' : [98,89,90],\n",
    "             '음악' : [85,89,95],\n",
    "             '체육' : [100,90,90]}\n",
    "df = pd.DataFrame(exam_data)\n",
    "\n",
    "df = df.set_index('이름')\n",
    "print(df)\n",
    "print()\n",
    "\n",
    "df.loc['서준','체육'] = 95\n",
    "print(df)\n",
    "print()\n",
    "\n",
    "\n",
    "df.loc['우현',['체육','영어']] = 95\n",
    "print(df)\n",
    "print()"
   ]
  },
  {
   "cell_type": "code",
   "execution_count": null,
   "id": "4a3724e5-7f21-426d-9629-8bd845375497",
   "metadata": {},
   "outputs": [],
   "source": [
    "df_trans = df.T # df.transpose()\n",
    "df_trans"
   ]
  },
  {
   "cell_type": "code",
   "execution_count": null,
   "id": "9da3fd41-a84d-470a-8c7b-454c2f2298fe",
   "metadata": {},
   "outputs": [],
   "source": []
  },
  {
   "cell_type": "code",
   "execution_count": null,
   "id": "ab27d72c-d3fc-4e83-8853-064bb3c3d98e",
   "metadata": {},
   "outputs": [],
   "source": []
  }
 ],
 "metadata": {
  "kernelspec": {
   "display_name": "ai",
   "language": "python",
   "name": "ai"
  },
  "language_info": {
   "codemirror_mode": {
    "name": "ipython",
    "version": 3
   },
   "file_extension": ".py",
   "mimetype": "text/x-python",
   "name": "python",
   "nbconvert_exporter": "python",
   "pygments_lexer": "ipython3",
   "version": "3.10.16"
  }
 },
 "nbformat": 4,
 "nbformat_minor": 5
}
