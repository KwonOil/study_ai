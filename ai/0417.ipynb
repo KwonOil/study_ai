{
 "cells": [
  {
   "cell_type": "markdown",
   "id": "cdad24aa-0ffb-4bc4-b67e-a3b58191c8da",
   "metadata": {},
   "source": [
    "# 판다스 용도\n",
    "## 데이터 수집, 정리하는 역할\n",
    "# 자료 형식\n",
    "## 시리즈, 데이터 프레임\n",
    "# 판다스 목적\n",
    "## 서로 다른 여러가지 유형의 데이터를 공통 포맷으로 정리하는 것"
   ]
  },
  {
   "cell_type": "markdown",
   "id": "2c466ced-2678-483a-a3e3-e0d661174040",
   "metadata": {},
   "source": [
    "1. 시리즈\n",
    "   1.1 1차원 배열(1대1 대응)\n",
    "   1.2 리스트, 튜플, 딕셔너리를 시리즈로 만들 수 있다(pd.Series())\n",
    "   1.3 리스트, 튜플은index를 지정하지 않으면 0,1,2,...\n",
    "   1.4 딕셔너리는 key는 index가 되고 value는 data가 된다"
   ]
  },
  {
   "cell_type": "code",
   "execution_count": 1,
   "id": "342fb237-72ae-47be-a4cb-4058cc7fb551",
   "metadata": {},
   "outputs": [
    {
     "name": "stdout",
     "output_type": "stream",
     "text": [
      "<class 'pandas.core.series.Series'>\n",
      "a    1\n",
      "b    2\n",
      "c    3\n",
      "dtype: int64\n"
     ]
    }
   ],
   "source": [
    "import pandas as pd\n",
    "\n",
    "a = 0\n",
    "dict_data = {'a' : 1, 'b' : 2, 'c':3}\n",
    "sr = pd.Series(dict_data)\n",
    "print(type(sr))\n",
    "print(sr)\n"
   ]
  },
  {
   "cell_type": "code",
   "execution_count": 2,
   "id": "c823d73b-f51d-4bc8-b852-1346f68341c5",
   "metadata": {},
   "outputs": [
    {
     "ename": "NameError",
     "evalue": "name 'list_data' is not defined",
     "output_type": "error",
     "traceback": [
      "\u001b[1;31m---------------------------------------------------------------------------\u001b[0m",
      "\u001b[1;31mNameError\u001b[0m                                 Traceback (most recent call last)",
      "Cell \u001b[1;32mIn[2], line 1\u001b[0m\n\u001b[1;32m----> 1\u001b[0m sl \u001b[38;5;241m=\u001b[39m pd\u001b[38;5;241m.\u001b[39mSeries(\u001b[43mlist_data\u001b[49m)\n\u001b[0;32m      2\u001b[0m \u001b[38;5;28mprint\u001b[39m(sl)\n",
      "\u001b[1;31mNameError\u001b[0m: name 'list_data' is not defined"
     ]
    }
   ],
   "source": [
    "\n",
    "\n",
    "sl = pd.Series(list_data)\n",
    "print(sl)"
   ]
  },
  {
   "cell_type": "code",
   "execution_count": null,
   "id": "e89b807a-d486-405a-abfe-82a8b2b4a732",
   "metadata": {},
   "outputs": [],
   "source": [
    "sl = pd.Series(list_data, index = ['a','b','c','d','e','f','g','h','i','j'])\n",
    "print(sl)"
   ]
  },
  {
   "cell_type": "code",
   "execution_count": null,
   "id": "9254c259-a895-4666-a862-b465b042fcbb",
   "metadata": {},
   "outputs": [],
   "source": [
    "tuple_data = tuple(range(10,101,10))\n",
    "st = pd.Series(tuple_data, index = ['a','b','c','d','e','f','g','h','i','j'])\n",
    "print(st)"
   ]
  },
  {
   "cell_type": "code",
   "execution_count": null,
   "id": "bf21ec57-de26-4da8-aa92-ac8c5d6cac8a",
   "metadata": {},
   "outputs": [],
   "source": [
    "list_test = ['2019-01-01', 3.14, 'ABC', 100, True]\n",
    "stest = pd.Series(list_test)\n",
    "stest_index = stest.index\n",
    "stest_value = stest.values\n",
    "print(stest_index)\n",
    "print(stest_value)"
   ]
  },
  {
   "cell_type": "code",
   "execution_count": null,
   "id": "71c3a4a6-b4cb-480a-8e13-497df7679746",
   "metadata": {},
   "outputs": [],
   "source": [
    "# 리스트 -> 시리즈 : pd.Series(list)\n",
    "# 시리즈 -> 리스트\n",
    "# 시리즈의 index : [시리즈명].index\n",
    "# 시리즈의 data : [시리즈명].values\n",
    "dic_data = { '딸기' : 5000, '바나나' : 3000 }\n",
    "s_fruits = pd.Series(dic_data)\n",
    "print(s_fruits)\n",
    "\n",
    "# 딸기, 바나나를 리스트로 저장하기\n",
    "# 가격도 리스트로 저장하기\n",
    "fruits = list(s_fruits.index)\n",
    "price = s_fruits.values\n",
    "\n",
    "print(\"상품 목록 : \", fruits)\n",
    "print(\"가격 목록 : \", price)"
   ]
  },
  {
   "cell_type": "code",
   "execution_count": null,
   "id": "b5da689f-57ed-42c4-b6a8-7cf04d22b608",
   "metadata": {},
   "outputs": [],
   "source": [
    "# shape\n",
    "print(s_fruits.shape) # 컴퓨터 비전에서 데이터 내용 파악할 때 많이 쓰는 명령어\n",
    "print(s_fruits.ndim) # n dimension (차원)"
   ]
  },
  {
   "cell_type": "code",
   "execution_count": null,
   "id": "def4442a-64fa-4d0b-9526-c3cb8e7725f2",
   "metadata": {},
   "outputs": [],
   "source": [
    "test_data = list(range(10,61,10))\n",
    "test_series = pd.Series(test_data, index = ['a','b','c','d','e','f'])\n",
    "print(test_series)\n",
    "print(test_series[2:5])\n",
    "print(test_series['c'])"
   ]
  },
  {
   "cell_type": "code",
   "execution_count": null,
   "id": "b554def1-6ee5-4cbc-84fb-e8f9b5f86ca8",
   "metadata": {},
   "outputs": [],
   "source": [
    "test_tuple = ('영인','2010-05-01','여',True)\n",
    "test_series_tuple = pd.Series(test_tuple, index = ['이름','생년월일','성별','학생여부'])\n",
    "# print(test_series_tuple)\n",
    "\n",
    "if(test_series_tuple['학생여부']):\n",
    "    print(test_series_tuple[['이름','생년월일']])\n",
    "else:\n",
    "    print(test_series_tuple['이름'])\n"
   ]
  },
  {
   "cell_type": "code",
   "execution_count": null,
   "id": "21dffd52-0327-4856-94b0-bc76364d74da",
   "metadata": {},
   "outputs": [],
   "source": [
    "# 이름 인덱스부터 성별 인덱스까지 연속적인 인덱스 자료 선택하기\n",
    "print( test_series_tuple['이름':'성별'])"
   ]
  },
  {
   "cell_type": "code",
   "execution_count": null,
   "id": "d18903dc-f65e-44cf-987d-f491975dc8d7",
   "metadata": {},
   "outputs": [],
   "source": [
    "# 빈 Series, 상수로 구성된 Series\n",
    "sr_empty = pd.Series()\n",
    "# 데이터 0, 인덱스 0~100\n",
    "sr_0 = pd.Series(0, index = list(range(101)))\n",
    "print(sr_0)"
   ]
  },
  {
   "cell_type": "code",
   "execution_count": null,
   "id": "744cc740-5c18-468f-9695-68c9fc900f34",
   "metadata": {},
   "outputs": [],
   "source": []
  }
 ],
 "metadata": {
  "kernelspec": {
   "display_name": "ai",
   "language": "python",
   "name": "ai"
  },
  "language_info": {
   "codemirror_mode": {
    "name": "ipython",
    "version": 3
   },
   "file_extension": ".py",
   "mimetype": "text/x-python",
   "name": "python",
   "nbconvert_exporter": "python",
   "pygments_lexer": "ipython3",
   "version": "3.10.16"
  }
 },
 "nbformat": 4,
 "nbformat_minor": 5
}
