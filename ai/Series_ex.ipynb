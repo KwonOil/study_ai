{
 "cells": [
  {
   "cell_type": "code",
   "execution_count": 1,
   "id": "920ed457-32ad-45d1-b280-f8e7c27cfce8",
   "metadata": {},
   "outputs": [],
   "source": [
    "# import\n",
    "import pandas as pd"
   ]
  },
  {
   "cell_type": "markdown",
   "id": "95480c2c-084c-40e9-aa93-27e28cb718ee",
   "metadata": {},
   "source": [
    "문제1) 시리즈 생성\n",
    "\n",
    "리스트 [100, 200, 300, 400, 500]를 사용해서 인덱스가 'a', 'b', 'c', 'd', 'e'인 시리즈를 만들어 출력하시오."
   ]
  },
  {
   "cell_type": "code",
   "execution_count": 2,
   "id": "09a072ea-0436-4f4c-a480-261508e1c657",
   "metadata": {},
   "outputs": [
    {
     "name": "stdout",
     "output_type": "stream",
     "text": [
      "a    100\n",
      "b    200\n",
      "c    300\n",
      "d    400\n",
      "e    500\n",
      "dtype: int64\n"
     ]
    }
   ],
   "source": [
    "list1 = [100, 200, 300, 400, 500]\n",
    "sr1 = pd.Series(list1,['a', 'b', 'c', 'd', 'e'])\n",
    "print(sr1)\n"
   ]
  },
  {
   "cell_type": "markdown",
   "id": "5e1bae58-d637-4c19-8638-be4c50e3e32b",
   "metadata": {},
   "source": [
    "문제2) 값 선택 및 슬라이싱\n",
    "\n",
    "아래 시리즈에서 인덱스 'b'와 'd'에 해당하는 값을 출력하시오.\n",
    "\n",
    "import pandas as pd\n",
    "\n",
    "s = pd.Series([10, 20, 30, 40, 50], index=['a', 'b', 'c', 'd', 'e'])"
   ]
  },
  {
   "cell_type": "code",
   "execution_count": 3,
   "id": "085e6725-131e-490a-a138-041657b98b88",
   "metadata": {},
   "outputs": [
    {
     "name": "stdout",
     "output_type": "stream",
     "text": [
      "20 40\n"
     ]
    }
   ],
   "source": [
    "s2 = pd.Series([10, 20, 30, 40, 50], index=['a', 'b', 'c', 'd', 'e'])\n",
    "\n",
    "print(s2['b'],s2['d'])"
   ]
  },
  {
   "cell_type": "markdown",
   "id": "0baa16b0-2444-4de0-9ebc-7fc814b3f113",
   "metadata": {},
   "source": [
    "문제3) 조건 필터링\n",
    "\n",
    "다음 시리즈에서 값이 30보다 큰 데이터만 출력하시오.\n",
    "\n",
    "import pandas as pd\n",
    "\n",
    "s = pd.Series([15, 25, 35, 45, 55], index=['A', 'B', 'C', 'D', 'E'])"
   ]
  },
  {
   "cell_type": "code",
   "execution_count": 4,
   "id": "b5d09b5a-405d-4da3-9f4b-06e98f04a38e",
   "metadata": {},
   "outputs": [
    {
     "name": "stdout",
     "output_type": "stream",
     "text": [
      "35\n",
      "45\n",
      "55\n",
      "C    35\n",
      "D    45\n",
      "E    55\n",
      "dtype: int64\n"
     ]
    }
   ],
   "source": [
    "s3 = pd.Series([15, 25, 35, 45, 55], index=['A', 'B', 'C', 'D', 'E'])\n",
    "\n",
    "# 1\n",
    "for i in s3:\n",
    "    if(i>30):\n",
    "        print(i)\n",
    "# 2\n",
    "print(s3[s3>30])"
   ]
  },
  {
   "cell_type": "markdown",
   "id": "ffdc2de4-0c0e-44d9-ad71-9245ac958986",
   "metadata": {},
   "source": [
    "문제4) 연산 적용\n",
    "\n",
    "아래 시리즈에 10을 더한 새로운 시리즈를 만들어 출력하시오.\n",
    "\n",
    "import pandas as pd\n",
    "s = pd.Series([5, 10, 15, 20, 25])"
   ]
  },
  {
   "cell_type": "code",
   "execution_count": 5,
   "id": "a758b3ab-751a-40a6-bd13-4c4d4c61633b",
   "metadata": {},
   "outputs": [
    {
     "name": "stdout",
     "output_type": "stream",
     "text": [
      "0    15\n",
      "1    20\n",
      "2    25\n",
      "3    30\n",
      "4    35\n",
      "dtype: int64\n"
     ]
    }
   ],
   "source": [
    "s4 = pd.Series([5, 10, 15, 20, 25])\n",
    "# for i in range(len(s4)):\n",
    "#     s4[i] += 10\n",
    "s4 += 10\n",
    "print(s4)"
   ]
  },
  {
   "cell_type": "markdown",
   "id": "fed1ebb5-3c77-4b9d-874c-d0f3c8d5db02",
   "metadata": {},
   "source": [
    "문제5) 딕셔너리로 시리즈 만들기 & 값 접근\n",
    "\n",
    "다음 딕셔너리를 시리즈로 만들고 'Python' 과목 점수를 출력하시오.\n",
    "\n",
    "scores = {\n",
    "    'Python': 95,\n",
    "    'Math': 88,\n",
    "    'English': 76,\n",
    "    'History': 82\n",
    "}"
   ]
  },
  {
   "cell_type": "code",
   "execution_count": 6,
   "id": "cea637c4-a2fa-4862-87df-112c772b6afd",
   "metadata": {},
   "outputs": [
    {
     "name": "stdout",
     "output_type": "stream",
     "text": [
      "95\n"
     ]
    }
   ],
   "source": [
    "scores = { 'Python': 95, 'Math': 88, 'English': 76, 'History': 82 }\n",
    "sr_scores = pd.Series(scores)\n",
    "print(sr_scores['Python'])"
   ]
  },
  {
   "cell_type": "markdown",
   "id": "8fe07b16-6079-48e9-9bd1-5b42275218f3",
   "metadata": {},
   "source": [
    "문제6) 시리즈 인덱스 변경\n",
    "\n",
    "아래 시리즈의 인덱스를 'A', 'B', 'C', 'D', 'E'로 바꿔서 출력하시오.\n",
    "\n",
    "import pandas as pd\n",
    "\n",
    "s = pd.Series([12, 24, 36, 48, 60])"
   ]
  },
  {
   "cell_type": "code",
   "execution_count": 7,
   "id": "56e5da28-c83c-421d-b143-f7ced89070a4",
   "metadata": {},
   "outputs": [
    {
     "name": "stdout",
     "output_type": "stream",
     "text": [
      "A    12\n",
      "B    24\n",
      "C    36\n",
      "D    48\n",
      "E    60\n",
      "dtype: int64\n"
     ]
    }
   ],
   "source": [
    "s6 = pd.Series([12, 24, 36, 48, 60])\n",
    "s6.index = ['A', 'B', 'C', 'D', 'E']\n",
    "# s6 = pd.Series([12, 24, 36, 48, 60], index = ['A', 'B', 'C', 'D', 'E'])\n",
    "print(s6)"
   ]
  },
  {
   "cell_type": "markdown",
   "id": "0714c819-7a96-4fc5-99dd-fbda51380856",
   "metadata": {},
   "source": [
    "문제7) 시리즈 값의 평균 구하기\n",
    "\n",
    "다음 시리즈의 평균값을 계산하시오.\n",
    "\n",
    "import pandas as pd\n",
    "s = pd.Series([80, 90, 75, 95, 88])"
   ]
  },
  {
   "cell_type": "code",
   "execution_count": 8,
   "id": "b8785581-9201-4764-a9eb-1164e51f7d75",
   "metadata": {},
   "outputs": [
    {
     "name": "stdout",
     "output_type": "stream",
     "text": [
      "85.6\n",
      "85.6\n"
     ]
    }
   ],
   "source": [
    "s7 = pd.Series([80, 90, 75, 95, 88])\n",
    "\n",
    "# 1\n",
    "sum = 0\n",
    "for i in range(len(s7)):\n",
    "    sum += s7[i]\n",
    "avg = sum / len(s7)\n",
    "print(avg)\n",
    "\n",
    "# 2\n",
    "print(s7.mean()) # 합 sum, 평균 mean, 최대값 max, 최소값 min 등"
   ]
  },
  {
   "cell_type": "markdown",
   "id": "3a2043f6-ec2f-455f-8ab0-385a2e6b49c1",
   "metadata": {},
   "source": [
    "문제8) 시리즈 정렬\n",
    "\n",
    "아래 시리즈를 값 기준으로 오름차순 정렬하여 출력하시오.\n",
    "\n",
    "import pandas as pd\n",
    "s = pd.Series([42, 16, 58, 33, 95])"
   ]
  },
  {
   "cell_type": "code",
   "execution_count": 9,
   "id": "a04cbf04-2b83-4602-9638-5d0fd01df57b",
   "metadata": {},
   "outputs": [
    {
     "name": "stdout",
     "output_type": "stream",
     "text": [
      "1    16\n",
      "3    33\n",
      "0    42\n",
      "2    58\n",
      "4    95\n",
      "dtype: int64\n"
     ]
    }
   ],
   "source": [
    "s8 = pd.Series([42, 16, 58, 33, 95])\n",
    "# 1 실패\n",
    "# set8 = set(s8.values)\n",
    "# print(s8)\n",
    "\n",
    "# 2\n",
    "print(s8.sort_values())"
   ]
  },
  {
   "cell_type": "markdown",
   "id": "4a279303-4430-4ec7-8105-889de81f25e2",
   "metadata": {},
   "source": [
    "문제9) 시리즈 NaN 처리\n",
    "\n",
    "다음 시리즈에서 NaN을 0으로 채운 새로운 시리즈를 만들어 출력하시오.\n",
    "\n",
    "import pandas as pd\n",
    "import numpy as np\n",
    "\n",
    "s = pd.Series([10, np.nan, 30, np.nan, 50])"
   ]
  },
  {
   "cell_type": "code",
   "execution_count": 10,
   "id": "cc19892d-7ccf-4748-842d-403b59f54e3c",
   "metadata": {},
   "outputs": [
    {
     "name": "stdout",
     "output_type": "stream",
     "text": [
      "30.0\n",
      "0    10.0\n",
      "1    30.0\n",
      "2    30.0\n",
      "3    30.0\n",
      "4    50.0\n",
      "dtype: float64\n"
     ]
    }
   ],
   "source": [
    "import numpy as np\n",
    "s9 = pd.Series([10, np.nan, 30, np.nan, 50]) # nan = not a number\n",
    "# s9_1 = pd.Series([10, 'a', 30, np.nan, 50]) # 에러 발생\n",
    "print( s9.mean())\n",
    "\n",
    "s9_2 = s9.fillna(0) # fillna(0) : nan을 0으로 채우기\n",
    "s9_3 = s9.fillna(s9.mean())\n",
    "print(s9_3)"
   ]
  },
  {
   "cell_type": "markdown",
   "id": "5acbea71-5f88-4764-ba8d-055b05e415b1",
   "metadata": {},
   "source": [
    "문제10) 시리즈 불린 인덱싱\n",
    "\n",
    "다음 시리즈에서 True인 인덱스만 출력하시오.\n",
    "\n",
    "import pandas as pd\n",
    "\n",
    "s = pd.Series([True, False, True, False, True], index=['A', 'B', 'C', 'D', 'E'])"
   ]
  },
  {
   "cell_type": "code",
   "execution_count": 11,
   "id": "00f74927-d02f-4c26-ac8d-4ea6bb13d3fd",
   "metadata": {},
   "outputs": [
    {
     "name": "stdout",
     "output_type": "stream",
     "text": [
      "Index(['A', 'C', 'E'], dtype='object')\n"
     ]
    }
   ],
   "source": [
    "s10 = pd.Series([True, False, True, False, True], index=['A', 'B', 'C', 'D', 'E'])\n",
    "print(s10 [s10].index)\n"
   ]
  },
  {
   "cell_type": "code",
   "execution_count": 12,
   "id": "c5aec467-7350-4223-b2a8-c613166ec1fd",
   "metadata": {},
   "outputs": [
    {
     "name": "stdout",
     "output_type": "stream",
     "text": [
      "Index([3], dtype='int64')\n"
     ]
    }
   ],
   "source": [
    "s_num = [10,30,20,100]\n",
    "sr = pd.Series(s_num)\n",
    "print(sr[ sr > 30 ].index) # 시리즈[시리즈] : 시리즈 내부를 돌면서 []안의 값이 참이면 값을 반환\n"
   ]
  },
  {
   "cell_type": "code",
   "execution_count": null,
   "id": "e689bcc1-9a19-42f4-8320-2a41744f1683",
   "metadata": {},
   "outputs": [],
   "source": []
  }
 ],
 "metadata": {
  "kernelspec": {
   "display_name": "ai",
   "language": "python",
   "name": "ai"
  },
  "language_info": {
   "codemirror_mode": {
    "name": "ipython",
    "version": 3
   },
   "file_extension": ".py",
   "mimetype": "text/x-python",
   "name": "python",
   "nbconvert_exporter": "python",
   "pygments_lexer": "ipython3",
   "version": "3.10.16"
  }
 },
 "nbformat": 4,
 "nbformat_minor": 5
}
