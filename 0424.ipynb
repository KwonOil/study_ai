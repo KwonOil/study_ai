{
 "cells": [
  {
   "cell_type": "code",
   "execution_count": 36,
   "id": "766c8a27-3fda-4910-8363-d978d0a6d48e",
   "metadata": {},
   "outputs": [],
   "source": [
    "#import\n",
    "import pandas as pd\n",
    "import requests"
   ]
  },
  {
   "cell_type": "code",
   "execution_count": 43,
   "id": "2364a15d-4884-4568-b9a1-e0029de9235e",
   "metadata": {},
   "outputs": [
    {
     "name": "stdout",
     "output_type": "stream",
     "text": [
      "1 서울 특별시 종로구 세종대로 175\n",
      "2 서울특별시 서초구 서초동 700\n",
      "3 성남시 수정구 수정로 167\n"
     ]
    },
    {
     "data": {
      "text/html": [
       "<div>\n",
       "<style scoped>\n",
       "    .dataframe tbody tr th:only-of-type {\n",
       "        vertical-align: middle;\n",
       "    }\n",
       "\n",
       "    .dataframe tbody tr th {\n",
       "        vertical-align: top;\n",
       "    }\n",
       "\n",
       "    .dataframe thead th {\n",
       "        text-align: right;\n",
       "    }\n",
       "</style>\n",
       "<table border=\"1\" class=\"dataframe\">\n",
       "  <thead>\n",
       "    <tr style=\"text-align: right;\">\n",
       "      <th></th>\n",
       "      <th>위도</th>\n",
       "      <th>경도</th>\n",
       "    </tr>\n",
       "  </thead>\n",
       "  <tbody>\n",
       "    <tr>\n",
       "      <th>서울 특별시 종로구 세종대로 175</th>\n",
       "      <td>37.5718478584908</td>\n",
       "      <td>126.976168275947</td>\n",
       "    </tr>\n",
       "    <tr>\n",
       "      <th>서울특별시 서초구 서초동 700</th>\n",
       "      <td>37.4810862955299</td>\n",
       "      <td>127.015245160054</td>\n",
       "    </tr>\n",
       "    <tr>\n",
       "      <th>성남시 수정구 수정로 167</th>\n",
       "      <td>37.4432086770498</td>\n",
       "      <td>127.13858185521</td>\n",
       "    </tr>\n",
       "  </tbody>\n",
       "</table>\n",
       "</div>"
      ],
      "text/plain": [
       "                                   위도                경도\n",
       "서울 특별시 종로구 세종대로 175  37.5718478584908  126.976168275947\n",
       "서울특별시 서초구 서초동 700    37.4810862955299  127.015245160054\n",
       "성남시 수정구 수정로 167      37.4432086770498   127.13858185521"
      ]
     },
     "execution_count": 43,
     "metadata": {},
     "output_type": "execute_result"
    }
   ],
   "source": [
    "my_key = \"0d4ef60b54c0c40d0242cedd076a156c\"\n",
    "\n",
    "def get_geocoding(place):\n",
    "    url = f\"https://dapi.kakao.com/v2/local/search/address.json?query={place}\"\n",
    "    headers = {\"Authorization\" : f\"KakaoAK {my_key}\"}\n",
    "    response = requests.get(url, headers = headers)\n",
    "    result = response.json()\n",
    "    return result[\"documents\"][0][\"y\"], result[\"documents\"][0][\"x\"]\n",
    "\n",
    "lat = [] # 위도\n",
    "lng = [] # 경도\n",
    "\n",
    "places = [\"서울 특별시 종로구 세종대로 175\",\n",
    "        \"서울특별시 서초구 서초동 700\",\n",
    "        \"성남시 수정구 수정로 167\"] # 장소 리스트\n",
    "\n",
    "i = 0\n",
    "for place in places:\n",
    "    i += 1\n",
    "    try : \n",
    "        print(i, place)\n",
    "        place_lat, place_lng = get_geocoding(place)\n",
    "        lat.append(place_lat)\n",
    "        lng.append(place_lng)\n",
    "    except:\n",
    "        lat.append('')\n",
    "        lng.append('')\n",
    "        print(i)\n",
    "df = pd.DataFrame({'위도' : lat, '경도' : lng}, index = places)\n",
    "df"
   ]
  },
  {
   "cell_type": "code",
   "execution_count": 61,
   "id": "ae4202eb-6ff4-4fab-bc83-5a841c29cb2b",
   "metadata": {},
   "outputs": [
    {
     "name": "stdout",
     "output_type": "stream",
     "text": [
      "1 경기 성남시 수정구 태평동 3309\n",
      "도로명은 경기 성남시 수정구 수정로171번길 10\n",
      "2 서울특별시 서초구 서초동 700\n",
      "도로명은 서울 서초구 남부순환로 2406\n",
      "3 성남시 수정구 수정로 167\n",
      "도로명은 경기 성남시 수정구 수정로 167\n"
     ]
    }
   ],
   "source": [
    "def get_road_address(place):\n",
    "    url = f\"https://dapi.kakao.com/v2/local/search/address.json?query={place}\"\n",
    "    headers = {\"Authorization\" : f\"KakaoAK {my_key}\"}\n",
    "    response = requests.get(url, headers = headers)\n",
    "    result = response.json()\n",
    "    return result[\"documents\"][0][\"road_address\"][\"address_name\"]\n",
    "\n",
    "\n",
    "places = [\"경기 성남시 수정구 태평동 3309\",\n",
    "        \"서울특별시 서초구 서초동 700\",\n",
    "        \"성남시 수정구 수정로 167\"] # 장소 리스트\n",
    "\n",
    "i = 0\n",
    "for place in places:\n",
    "    i += 1\n",
    "    try : \n",
    "        print(i, place)\n",
    "        road_in = get_road_address(place)\n",
    "        print('도로명은',road_in)\n",
    "    except:\n",
    "        print(i)\n"
   ]
  },
  {
   "cell_type": "code",
   "execution_count": 65,
   "id": "dd9994a8-c073-454b-9cf6-8f65b46bcb43",
   "metadata": {},
   "outputs": [
    {
     "name": "stdout",
     "output_type": "stream",
     "text": [
      "1 경기 성남시 수정구 태평동 3309\n",
      "우편번호는 13290\n",
      "2 서울특별시 서초구 서초동 700\n",
      "우편번호는 06757\n",
      "3 성남시 수정구 수정로 167\n",
      "우편번호는 13292\n"
     ]
    }
   ],
   "source": [
    "def get_zone_no(place):\n",
    "    url = f\"https://dapi.kakao.com/v2/local/search/address.json?query={place}\"\n",
    "    headers = {\"Authorization\" : f\"KakaoAK {my_key}\"}\n",
    "    response = requests.get(url, headers = headers)\n",
    "    result = response.json()\n",
    "    return result[\"documents\"][0][\"road_address\"][\"zone_no\"]\n",
    "\n",
    "places = [\"경기 성남시 수정구 태평동 3309\",\n",
    "        \"서울특별시 서초구 서초동 700\",\n",
    "        \"성남시 수정구 수정로 167\"] # 장소 리스트\n",
    "\n",
    "i = 0\n",
    "for place in places:\n",
    "    i += 1\n",
    "    try : \n",
    "        print(i, place)\n",
    "        zone = get_zone_no(place)\n",
    "        print('우편번호는',zone)\n",
    "    except:\n",
    "        print(i)\n"
   ]
  },
  {
   "cell_type": "code",
   "execution_count": 85,
   "id": "14fcb497-ea2c-4a98-a67e-f5bf274ca4c2",
   "metadata": {},
   "outputs": [
    {
     "name": "stdin",
     "output_type": "stream",
     "text": [
      "위도는?  37.5718478584908\n",
      "경도는?  126.976168275947\n"
     ]
    }
   ],
   "source": [
    "lat = float(input('위도는? '))\n",
    "lng = float(input('경도는? '))"
   ]
  },
  {
   "cell_type": "code",
   "execution_count": 91,
   "id": "76767098-30e4-43cc-b89e-5b9b0f15b78a",
   "metadata": {},
   "outputs": [
    {
     "name": "stdout",
     "output_type": "stream",
     "text": [
      "37.5718478584908 126.976168275947\n",
      "address_name은 서울특별시 종로구 사직동\n"
     ]
    }
   ],
   "source": [
    "def get_x_y(lat, lng):\n",
    "    url = f\"https://dapi.kakao.com/v2/local/geo/coord2regioncode.json?x={lng}&y={lat}\"\n",
    "    headers = {\"Authorization\" : f\"KakaoAK {my_key}\"}\n",
    "    \n",
    "    response = requests.get(url, headers = headers)\n",
    "    result = response.json()\n",
    "    return result[\"documents\"][1][\"address_name\"]\n",
    "\n",
    "\n",
    "try : \n",
    "    print(lat, lng)\n",
    "    zone = get_x_y(lat,lng)\n",
    "    print('address_name은',zone)\n",
    "except:\n",
    "    print(i)"
   ]
  },
  {
   "cell_type": "code",
   "execution_count": 120,
   "id": "a24c5c6c-3ee1-4281-824c-5905fda60b3c",
   "metadata": {},
   "outputs": [
    {
     "name": "stdout",
     "output_type": "stream",
     "text": [
      "<Response [502]>\n"
     ]
    },
    {
     "ename": "JSONDecodeError",
     "evalue": "Expecting value: line 1 column 1 (char 0)",
     "output_type": "error",
     "traceback": [
      "\u001b[1;31m---------------------------------------------------------------------------\u001b[0m",
      "\u001b[1;31mJSONDecodeError\u001b[0m                           Traceback (most recent call last)",
      "File \u001b[1;32mC:\\install_program\\envs\\ai\\lib\\site-packages\\requests\\models.py:974\u001b[0m, in \u001b[0;36mResponse.json\u001b[1;34m(self, **kwargs)\u001b[0m\n\u001b[0;32m    973\u001b[0m \u001b[38;5;28;01mtry\u001b[39;00m:\n\u001b[1;32m--> 974\u001b[0m     \u001b[38;5;28;01mreturn\u001b[39;00m complexjson\u001b[38;5;241m.\u001b[39mloads(\u001b[38;5;28mself\u001b[39m\u001b[38;5;241m.\u001b[39mtext, \u001b[38;5;241m*\u001b[39m\u001b[38;5;241m*\u001b[39mkwargs)\n\u001b[0;32m    975\u001b[0m \u001b[38;5;28;01mexcept\u001b[39;00m JSONDecodeError \u001b[38;5;28;01mas\u001b[39;00m e:\n\u001b[0;32m    976\u001b[0m     \u001b[38;5;66;03m# Catch JSON-related errors and raise as requests.JSONDecodeError\u001b[39;00m\n\u001b[0;32m    977\u001b[0m     \u001b[38;5;66;03m# This aliases json.JSONDecodeError and simplejson.JSONDecodeError\u001b[39;00m\n",
      "File \u001b[1;32mC:\\install_program\\envs\\ai\\lib\\json\\__init__.py:346\u001b[0m, in \u001b[0;36mloads\u001b[1;34m(s, cls, object_hook, parse_float, parse_int, parse_constant, object_pairs_hook, **kw)\u001b[0m\n\u001b[0;32m    343\u001b[0m \u001b[38;5;28;01mif\u001b[39;00m (\u001b[38;5;28mcls\u001b[39m \u001b[38;5;129;01mis\u001b[39;00m \u001b[38;5;28;01mNone\u001b[39;00m \u001b[38;5;129;01mand\u001b[39;00m object_hook \u001b[38;5;129;01mis\u001b[39;00m \u001b[38;5;28;01mNone\u001b[39;00m \u001b[38;5;129;01mand\u001b[39;00m\n\u001b[0;32m    344\u001b[0m         parse_int \u001b[38;5;129;01mis\u001b[39;00m \u001b[38;5;28;01mNone\u001b[39;00m \u001b[38;5;129;01mand\u001b[39;00m parse_float \u001b[38;5;129;01mis\u001b[39;00m \u001b[38;5;28;01mNone\u001b[39;00m \u001b[38;5;129;01mand\u001b[39;00m\n\u001b[0;32m    345\u001b[0m         parse_constant \u001b[38;5;129;01mis\u001b[39;00m \u001b[38;5;28;01mNone\u001b[39;00m \u001b[38;5;129;01mand\u001b[39;00m object_pairs_hook \u001b[38;5;129;01mis\u001b[39;00m \u001b[38;5;28;01mNone\u001b[39;00m \u001b[38;5;129;01mand\u001b[39;00m \u001b[38;5;129;01mnot\u001b[39;00m kw):\n\u001b[1;32m--> 346\u001b[0m     \u001b[38;5;28;01mreturn\u001b[39;00m \u001b[43m_default_decoder\u001b[49m\u001b[38;5;241;43m.\u001b[39;49m\u001b[43mdecode\u001b[49m\u001b[43m(\u001b[49m\u001b[43ms\u001b[49m\u001b[43m)\u001b[49m\n\u001b[0;32m    347\u001b[0m \u001b[38;5;28;01mif\u001b[39;00m \u001b[38;5;28mcls\u001b[39m \u001b[38;5;129;01mis\u001b[39;00m \u001b[38;5;28;01mNone\u001b[39;00m:\n",
      "File \u001b[1;32mC:\\install_program\\envs\\ai\\lib\\json\\decoder.py:337\u001b[0m, in \u001b[0;36mJSONDecoder.decode\u001b[1;34m(self, s, _w)\u001b[0m\n\u001b[0;32m    333\u001b[0m \u001b[38;5;250m\u001b[39m\u001b[38;5;124;03m\"\"\"Return the Python representation of ``s`` (a ``str`` instance\u001b[39;00m\n\u001b[0;32m    334\u001b[0m \u001b[38;5;124;03mcontaining a JSON document).\u001b[39;00m\n\u001b[0;32m    335\u001b[0m \n\u001b[0;32m    336\u001b[0m \u001b[38;5;124;03m\"\"\"\u001b[39;00m\n\u001b[1;32m--> 337\u001b[0m obj, end \u001b[38;5;241m=\u001b[39m \u001b[38;5;28;43mself\u001b[39;49m\u001b[38;5;241;43m.\u001b[39;49m\u001b[43mraw_decode\u001b[49m\u001b[43m(\u001b[49m\u001b[43ms\u001b[49m\u001b[43m,\u001b[49m\u001b[43m \u001b[49m\u001b[43midx\u001b[49m\u001b[38;5;241;43m=\u001b[39;49m\u001b[43m_w\u001b[49m\u001b[43m(\u001b[49m\u001b[43ms\u001b[49m\u001b[43m,\u001b[49m\u001b[43m \u001b[49m\u001b[38;5;241;43m0\u001b[39;49m\u001b[43m)\u001b[49m\u001b[38;5;241;43m.\u001b[39;49m\u001b[43mend\u001b[49m\u001b[43m(\u001b[49m\u001b[43m)\u001b[49m\u001b[43m)\u001b[49m\n\u001b[0;32m    338\u001b[0m end \u001b[38;5;241m=\u001b[39m _w(s, end)\u001b[38;5;241m.\u001b[39mend()\n",
      "File \u001b[1;32mC:\\install_program\\envs\\ai\\lib\\json\\decoder.py:355\u001b[0m, in \u001b[0;36mJSONDecoder.raw_decode\u001b[1;34m(self, s, idx)\u001b[0m\n\u001b[0;32m    354\u001b[0m \u001b[38;5;28;01mexcept\u001b[39;00m \u001b[38;5;167;01mStopIteration\u001b[39;00m \u001b[38;5;28;01mas\u001b[39;00m err:\n\u001b[1;32m--> 355\u001b[0m     \u001b[38;5;28;01mraise\u001b[39;00m JSONDecodeError(\u001b[38;5;124m\"\u001b[39m\u001b[38;5;124mExpecting value\u001b[39m\u001b[38;5;124m\"\u001b[39m, s, err\u001b[38;5;241m.\u001b[39mvalue) \u001b[38;5;28;01mfrom\u001b[39;00m\u001b[38;5;250m \u001b[39m\u001b[38;5;28;01mNone\u001b[39;00m\n\u001b[0;32m    356\u001b[0m \u001b[38;5;28;01mreturn\u001b[39;00m obj, end\n",
      "\u001b[1;31mJSONDecodeError\u001b[0m: Expecting value: line 1 column 1 (char 0)",
      "\nDuring handling of the above exception, another exception occurred:\n",
      "\u001b[1;31mJSONDecodeError\u001b[0m                           Traceback (most recent call last)",
      "Cell \u001b[1;32mIn[120], line 22\u001b[0m\n\u001b[0;32m     19\u001b[0m     result \u001b[38;5;241m=\u001b[39m response\u001b[38;5;241m.\u001b[39mjson()\n\u001b[0;32m     20\u001b[0m     \u001b[38;5;28;01mreturn\u001b[39;00m pd\u001b[38;5;241m.\u001b[39mDataFrame(result)\n\u001b[1;32m---> 22\u001b[0m df_ttm_consolidated \u001b[38;5;241m=\u001b[39m \u001b[43mget_financials\u001b[49m\u001b[43m(\u001b[49m\u001b[43mstockCode\u001b[49m\u001b[43m \u001b[49m\u001b[38;5;241;43m=\u001b[39;49m\u001b[43m \u001b[49m\u001b[38;5;124;43m'\u001b[39;49m\u001b[38;5;124;43m002390\u001b[39;49m\u001b[38;5;124;43m'\u001b[39;49m\u001b[43m,\u001b[49m\u001b[43m \u001b[49m\u001b[43mindicatorName\u001b[49m\u001b[43m \u001b[49m\u001b[38;5;241;43m=\u001b[39;49m\u001b[43m \u001b[49m\u001b[38;5;124;43m'\u001b[39;49m\u001b[38;5;124;43m매출액\u001b[39;49m\u001b[38;5;124;43m'\u001b[39;49m\u001b[43m,\u001b[49m\u001b[43m \u001b[49m\u001b[43mapiKey\u001b[49m\u001b[43m \u001b[49m\u001b[38;5;241;43m=\u001b[39;49m\u001b[43m \u001b[49m\u001b[43mdapada_key\u001b[49m\u001b[43m,\u001b[49m\u001b[43m \u001b[49m\u001b[43mconsolidated\u001b[49m\u001b[43m \u001b[49m\u001b[38;5;241;43m=\u001b[39;49m\u001b[43m \u001b[49m\u001b[38;5;28;43;01mTrue\u001b[39;49;00m\u001b[43m,\u001b[49m\u001b[43m \u001b[49m\u001b[43mttm\u001b[49m\u001b[43m \u001b[49m\u001b[38;5;241;43m=\u001b[39;49m\u001b[43m \u001b[49m\u001b[38;5;28;43;01mTrue\u001b[39;49;00m\u001b[43m)\u001b[49m\n\u001b[0;32m     23\u001b[0m df_ttm_consolidated\n",
      "Cell \u001b[1;32mIn[120], line 19\u001b[0m, in \u001b[0;36mget_financials\u001b[1;34m(stockCode, indicatorName, apiKey, consolidated, ttm)\u001b[0m\n\u001b[0;32m     17\u001b[0m response \u001b[38;5;241m=\u001b[39m requests\u001b[38;5;241m.\u001b[39mget(url, headers\u001b[38;5;241m=\u001b[39mheaders)\n\u001b[0;32m     18\u001b[0m \u001b[38;5;28mprint\u001b[39m(response)\n\u001b[1;32m---> 19\u001b[0m result \u001b[38;5;241m=\u001b[39m \u001b[43mresponse\u001b[49m\u001b[38;5;241;43m.\u001b[39;49m\u001b[43mjson\u001b[49m\u001b[43m(\u001b[49m\u001b[43m)\u001b[49m\n\u001b[0;32m     20\u001b[0m \u001b[38;5;28;01mreturn\u001b[39;00m pd\u001b[38;5;241m.\u001b[39mDataFrame(result)\n",
      "File \u001b[1;32mC:\\install_program\\envs\\ai\\lib\\site-packages\\requests\\models.py:978\u001b[0m, in \u001b[0;36mResponse.json\u001b[1;34m(self, **kwargs)\u001b[0m\n\u001b[0;32m    974\u001b[0m     \u001b[38;5;28;01mreturn\u001b[39;00m complexjson\u001b[38;5;241m.\u001b[39mloads(\u001b[38;5;28mself\u001b[39m\u001b[38;5;241m.\u001b[39mtext, \u001b[38;5;241m*\u001b[39m\u001b[38;5;241m*\u001b[39mkwargs)\n\u001b[0;32m    975\u001b[0m \u001b[38;5;28;01mexcept\u001b[39;00m JSONDecodeError \u001b[38;5;28;01mas\u001b[39;00m e:\n\u001b[0;32m    976\u001b[0m     \u001b[38;5;66;03m# Catch JSON-related errors and raise as requests.JSONDecodeError\u001b[39;00m\n\u001b[0;32m    977\u001b[0m     \u001b[38;5;66;03m# This aliases json.JSONDecodeError and simplejson.JSONDecodeError\u001b[39;00m\n\u001b[1;32m--> 978\u001b[0m     \u001b[38;5;28;01mraise\u001b[39;00m RequestsJSONDecodeError(e\u001b[38;5;241m.\u001b[39mmsg, e\u001b[38;5;241m.\u001b[39mdoc, e\u001b[38;5;241m.\u001b[39mpos)\n",
      "\u001b[1;31mJSONDecodeError\u001b[0m: Expecting value: line 1 column 1 (char 0)"
     ]
    }
   ],
   "source": [
    "# dapada api 실습\n",
    "# 502 Bad Gateway 에러 발생 - 서버쪽 문제\n",
    "dapada_key = \"dpd-bc0ad500-90800b7ed101ba80cef52fa8d175fe5c03f60ff81a11dc1e39b8bbe7c1b76dfa\"\n",
    "\n",
    "def get_financials(stockCode, indicatorName, apiKey, consolidated = True, ttm = True):\n",
    "    if consolidated:    # 연결 기준\n",
    "        if ttm:         # Trailing 12 Months(12개월 누적)\n",
    "            url = f\"https://api.dapada.io/company/getConsolidatedFinancialDataByTTM?indicatorName={indicatorName}&stockCode={stockCode}\"\n",
    "        else :          # 해당 분기 기준(3개월 집계)\n",
    "            url = f\"https://api.dapada.io/company/getConsolidatedFinancialDataByCUR?indicatorName={indicatorName}&stockCode={stockCode}\"\n",
    "    else :              # 별도 기준\n",
    "        if ttm:         # Trailing 12 Months(12개월 누적)\n",
    "            url = f\"https://api.dapada.io/company/getConsolidatedFinancialDataByTTM?indicatorName={indicatorName}&stockCode={stockCode}\"\n",
    "        else :          # 해당 분기 기준(3개월 집계)\n",
    "            url = f\"https://api.dapada.io/company/getConsolidatedFinancialDataByCUR?indicatorName={indicatorName}&stockCode={stockCode}\"\n",
    "    headers = {\"Authorization\": f\"{dapada_key}\"}\n",
    "    response = requests.get(url, headers=headers)\n",
    "    print(response)\n",
    "    result = response.json()\n",
    "    return pd.DataFrame(result)\n",
    "\n",
    "df_ttm_consolidated = get_financials(stockCode = '002390', indicatorName = '매출액', apiKey = dapada_key, consolidated = True, ttm = True)\n",
    "df_ttm_consolidated"
   ]
  },
  {
   "cell_type": "code",
   "execution_count": null,
   "id": "074a70cd-aa4a-45ac-a413-45da356a7a3e",
   "metadata": {},
   "outputs": [],
   "source": []
  }
 ],
 "metadata": {
  "kernelspec": {
   "display_name": "Python 3 (ipykernel)",
   "language": "python",
   "name": "python3"
  },
  "language_info": {
   "codemirror_mode": {
    "name": "ipython",
    "version": 3
   },
   "file_extension": ".py",
   "mimetype": "text/x-python",
   "name": "python",
   "nbconvert_exporter": "python",
   "pygments_lexer": "ipython3",
   "version": "3.10.16"
  }
 },
 "nbformat": 4,
 "nbformat_minor": 5
}
